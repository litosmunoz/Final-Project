{
 "cells": [
  {
   "cell_type": "code",
   "execution_count": 7,
   "metadata": {},
   "outputs": [],
   "source": [
    "import pandas as pd\n",
    "import seaborn as sns\n",
    "import matplotlib.pyplot as plt"
   ]
  },
  {
   "cell_type": "code",
   "execution_count": 4,
   "metadata": {},
   "outputs": [],
   "source": [
    "dxy = pd.read_csv ('../../dataset/Indicators/dxy.csv', encoding='unicode_escape')"
   ]
  },
  {
   "cell_type": "code",
   "execution_count": 5,
   "metadata": {},
   "outputs": [],
   "source": [
    "def cleaned_indicator(df): \n",
    "    df['time'] = df['time'].str.extract('(\\d{4}-\\d{2}-\\d{2})', expand=True)\n",
    "    df['time'] = pd.to_datetime(df[\"time\"])\n",
    "    df.set_index('time', inplace=True)\n",
    "    df= df.reindex(pd.date_range(start=df.index.min(),\n",
    "                                                  end=df.index.max(),\n",
    "                                                  freq='1D'))\n",
    "    df.interpolate(method='linear', inplace=True)\n",
    "    df.index.names = ['Dates']\n",
    "    df = df[(df.index >= '1971-08-04') & (df.index <= '2022-11-02')]\n",
    "    return df"
   ]
  },
  {
   "cell_type": "code",
   "execution_count": 6,
   "metadata": {},
   "outputs": [],
   "source": [
    "dxy = cleaned_indicator(dxy)"
   ]
  },
  {
   "cell_type": "code",
   "execution_count": null,
   "metadata": {},
   "outputs": [],
   "source": [
    "def dxy_visualization():\n",
    "    plt.plot(dxy, color= 'b')\n",
    "    plt.title('Consumer Price Index (CPI) YoY Change', fontsize= 20)\n",
    "    plt.xlabel('Date', fontsize= 20)\n",
    "    plt.ylabel('CPI YoY (%)', fontsize= 20)\n",
    "    plt.style.use('seaborn')\n",
    "    return plt.show()"
   ]
  }
 ],
 "metadata": {
  "kernelspec": {
   "display_name": "Python 3.9.12 ('base')",
   "language": "python",
   "name": "python3"
  },
  "language_info": {
   "codemirror_mode": {
    "name": "ipython",
    "version": 3
   },
   "file_extension": ".py",
   "mimetype": "text/x-python",
   "name": "python",
   "nbconvert_exporter": "python",
   "pygments_lexer": "ipython3",
   "version": "3.9.12"
  },
  "orig_nbformat": 4,
  "vscode": {
   "interpreter": {
    "hash": "8e76f8642360a3358ab06c318ab18c1161224eb3836609d5c16edea6f6e43dba"
   }
  }
 },
 "nbformat": 4,
 "nbformat_minor": 2
}
