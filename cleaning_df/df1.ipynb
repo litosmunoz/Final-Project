{
 "cells": [
  {
   "cell_type": "code",
   "execution_count": 20,
   "metadata": {},
   "outputs": [],
   "source": [
    "import pandas as pd"
   ]
  },
  {
   "cell_type": "code",
   "execution_count": 21,
   "metadata": {},
   "outputs": [],
   "source": [
    "bonds = pd.read_csv ('../dataset/Indicators/bonds.csv', encoding='unicode_escape')\n",
    "dxy = pd.read_csv ('../dataset/Indicators/dxy.csv', encoding='unicode_escape')\n",
    "interest_rates = pd.read_csv ('../dataset/Indicators/interest_rates.csv', encoding='unicode_escape')\n",
    "vix = pd.read_csv ('../dataset/Indicators/vix.csv', encoding='unicode_escape')\n",
    "gdp = pd.read_csv ('../dataset/Indicators/gdp.csv', encoding='unicode_escape')\n",
    "pmi = pd.read_csv ('../dataset/Indicators/pmi_.csv', encoding='unicode_escape')\n",
    "unemployment_rate = pd.read_csv ('../dataset/Indicators/unemployment_rate.csv', encoding='unicode_escape')\n",
    "cpi = pd.read_csv ('../dataset/Indicators/cpi_yoy.csv', encoding='unicode_escape')\n",
    "m2 = pd.read_csv ('../dataset/Indicators/monetary_supply.csv', encoding='unicode_escape')\n",
    "spx = pd.read_csv('../dataset/Assets/spx.csv', encoding='unicode_escape')\n",
    "ndx = pd.read_csv('../dataset/Assets/ndx.csv', encoding='unicode_escape')\n",
    "gold = pd.read_csv('../dataset/Assets/gold.csv', encoding='unicode_escape')"
   ]
  },
  {
   "cell_type": "code",
   "execution_count": 22,
   "metadata": {},
   "outputs": [],
   "source": [
    "def clean_df1(df): \n",
    "    df['time'] = df['time'].str.extract('(\\d{4}-\\d{2}-\\d{2})', expand=True)\n",
    "    df['time'] = pd.to_datetime(df[\"time\"])\n",
    "    df.set_index('time', inplace=True)\n",
    "    df= df.reindex(pd.date_range(start=df.index.min(),\n",
    "                                                  end=df.index.max(),\n",
    "                                                  freq='1D'))\n",
    "    df.interpolate(method='linear', inplace=True)\n",
    "    df.index.names = ['Dates']\n",
    "    df = df[(df.index >= '2000-01-01') & (df.index <= '2022-11-02')]\n",
    "    return df\n"
   ]
  },
  {
   "cell_type": "code",
   "execution_count": 23,
   "metadata": {},
   "outputs": [],
   "source": [
    "bonds = clean_df1(bonds)\n",
    "dxy = clean_df1(dxy)\n",
    "interest_rates = clean_df1(interest_rates)\n",
    "vix = clean_df1(vix)\n",
    "gdp = clean_df1(gdp)\n",
    "pmi = clean_df1(pmi)\n",
    "unemployment_rate = clean_df1(unemployment_rate)\n",
    "cpi = clean_df1(cpi)\n",
    "m2 = clean_df1(m2)\n",
    "spx = clean_df1(spx)\n",
    "ndx = clean_df1(ndx)\n",
    "gold = clean_df1(gold)"
   ]
  },
  {
   "cell_type": "code",
   "execution_count": 24,
   "metadata": {},
   "outputs": [
    {
     "data": {
      "text/plain": [
       "(8342, 1)"
      ]
     },
     "execution_count": 24,
     "metadata": {},
     "output_type": "execute_result"
    }
   ],
   "source": [
    "pmi.shape"
   ]
  },
  {
   "cell_type": "code",
   "execution_count": 25,
   "metadata": {},
   "outputs": [
    {
     "data": {
      "text/plain": [
       "True"
      ]
     },
     "execution_count": 25,
     "metadata": {},
     "output_type": "execute_result"
    }
   ],
   "source": [
    "gold.shape == ndx.shape"
   ]
  },
  {
   "cell_type": "code",
   "execution_count": 31,
   "metadata": {},
   "outputs": [],
   "source": [
    "def concatenate_df1():\n",
    "    df1 = pd.concat([bonds, dxy, interest_rates, vix, gdp, pmi, unemployment_rate, cpi, m2, spx, ndx, gold], axis = 1)\n",
    "    df1.columns = [\"10y_2y_bonds_spread\", 'dxy', 'interest_rates', \"vix\", \"gdp\", \"pmi\", \"unemployment_rate\", \"cpi\", \"m2\", \"m2(in billions)\", \"spx\", \"ndx\", \"gold\"]\n",
    "    df1.drop(columns=\"m2\", inplace=True)\n",
    "    return df1"
   ]
  },
  {
   "cell_type": "code",
   "execution_count": 32,
   "metadata": {},
   "outputs": [
    {
     "name": "stdout",
     "output_type": "stream",
     "text": [
      "(8342, 12)\n"
     ]
    },
    {
     "data": {
      "text/html": [
       "<div>\n",
       "<style scoped>\n",
       "    .dataframe tbody tr th:only-of-type {\n",
       "        vertical-align: middle;\n",
       "    }\n",
       "\n",
       "    .dataframe tbody tr th {\n",
       "        vertical-align: top;\n",
       "    }\n",
       "\n",
       "    .dataframe thead th {\n",
       "        text-align: right;\n",
       "    }\n",
       "</style>\n",
       "<table border=\"1\" class=\"dataframe\">\n",
       "  <thead>\n",
       "    <tr style=\"text-align: right;\">\n",
       "      <th></th>\n",
       "      <th>10y_2y_bonds_spread</th>\n",
       "      <th>dxy</th>\n",
       "      <th>interest_rates</th>\n",
       "      <th>vix</th>\n",
       "      <th>gdp</th>\n",
       "      <th>pmi</th>\n",
       "      <th>unemployment_rate</th>\n",
       "      <th>cpi</th>\n",
       "      <th>m2(in billions)</th>\n",
       "      <th>spx</th>\n",
       "      <th>ndx</th>\n",
       "      <th>gold</th>\n",
       "    </tr>\n",
       "    <tr>\n",
       "      <th>Dates</th>\n",
       "      <th></th>\n",
       "      <th></th>\n",
       "      <th></th>\n",
       "      <th></th>\n",
       "      <th></th>\n",
       "      <th></th>\n",
       "      <th></th>\n",
       "      <th></th>\n",
       "      <th></th>\n",
       "      <th></th>\n",
       "      <th></th>\n",
       "      <th></th>\n",
       "    </tr>\n",
       "  </thead>\n",
       "  <tbody>\n",
       "    <tr>\n",
       "      <th>2000-01-01</th>\n",
       "      <td>0.206667</td>\n",
       "      <td>101.115</td>\n",
       "      <td>5.5</td>\n",
       "      <td>23.67</td>\n",
       "      <td>4.595604</td>\n",
       "      <td>56.700000</td>\n",
       "      <td>4.000000</td>\n",
       "      <td>2.700000</td>\n",
       "      <td>4666.200000</td>\n",
       "      <td>1478.916667</td>\n",
       "      <td>3781.833333</td>\n",
       "      <td>288.166667</td>\n",
       "    </tr>\n",
       "    <tr>\n",
       "      <th>2000-01-02</th>\n",
       "      <td>0.203333</td>\n",
       "      <td>100.360</td>\n",
       "      <td>5.5</td>\n",
       "      <td>23.94</td>\n",
       "      <td>4.589011</td>\n",
       "      <td>56.670968</td>\n",
       "      <td>4.003226</td>\n",
       "      <td>2.716129</td>\n",
       "      <td>4666.625806</td>\n",
       "      <td>1472.833333</td>\n",
       "      <td>3809.666667</td>\n",
       "      <td>288.500000</td>\n",
       "    </tr>\n",
       "    <tr>\n",
       "      <th>2000-01-03</th>\n",
       "      <td>0.200000</td>\n",
       "      <td>100.385</td>\n",
       "      <td>5.5</td>\n",
       "      <td>24.21</td>\n",
       "      <td>4.582418</td>\n",
       "      <td>56.641935</td>\n",
       "      <td>4.006452</td>\n",
       "      <td>2.732258</td>\n",
       "      <td>4667.051613</td>\n",
       "      <td>1466.750000</td>\n",
       "      <td>3837.500000</td>\n",
       "      <td>282.200000</td>\n",
       "    </tr>\n",
       "    <tr>\n",
       "      <th>2000-01-04</th>\n",
       "      <td>0.190000</td>\n",
       "      <td>100.410</td>\n",
       "      <td>5.5</td>\n",
       "      <td>27.01</td>\n",
       "      <td>4.575824</td>\n",
       "      <td>56.612903</td>\n",
       "      <td>4.009677</td>\n",
       "      <td>2.748387</td>\n",
       "      <td>4667.477419</td>\n",
       "      <td>1411.500000</td>\n",
       "      <td>3559.500000</td>\n",
       "      <td>280.600000</td>\n",
       "    </tr>\n",
       "    <tr>\n",
       "      <th>2000-01-05</th>\n",
       "      <td>0.240000</td>\n",
       "      <td>100.430</td>\n",
       "      <td>5.5</td>\n",
       "      <td>26.41</td>\n",
       "      <td>4.569231</td>\n",
       "      <td>56.583871</td>\n",
       "      <td>4.012903</td>\n",
       "      <td>2.764516</td>\n",
       "      <td>4667.903226</td>\n",
       "      <td>1413.000000</td>\n",
       "      <td>3508.000000</td>\n",
       "      <td>281.200000</td>\n",
       "    </tr>\n",
       "  </tbody>\n",
       "</table>\n",
       "</div>"
      ],
      "text/plain": [
       "            10y_2y_bonds_spread      dxy  interest_rates    vix       gdp  \\\n",
       "Dates                                                                       \n",
       "2000-01-01             0.206667  101.115             5.5  23.67  4.595604   \n",
       "2000-01-02             0.203333  100.360             5.5  23.94  4.589011   \n",
       "2000-01-03             0.200000  100.385             5.5  24.21  4.582418   \n",
       "2000-01-04             0.190000  100.410             5.5  27.01  4.575824   \n",
       "2000-01-05             0.240000  100.430             5.5  26.41  4.569231   \n",
       "\n",
       "                  pmi  unemployment_rate       cpi  m2(in billions)  \\\n",
       "Dates                                                                 \n",
       "2000-01-01  56.700000           4.000000  2.700000      4666.200000   \n",
       "2000-01-02  56.670968           4.003226  2.716129      4666.625806   \n",
       "2000-01-03  56.641935           4.006452  2.732258      4667.051613   \n",
       "2000-01-04  56.612903           4.009677  2.748387      4667.477419   \n",
       "2000-01-05  56.583871           4.012903  2.764516      4667.903226   \n",
       "\n",
       "                    spx          ndx        gold  \n",
       "Dates                                             \n",
       "2000-01-01  1478.916667  3781.833333  288.166667  \n",
       "2000-01-02  1472.833333  3809.666667  288.500000  \n",
       "2000-01-03  1466.750000  3837.500000  282.200000  \n",
       "2000-01-04  1411.500000  3559.500000  280.600000  \n",
       "2000-01-05  1413.000000  3508.000000  281.200000  "
      ]
     },
     "execution_count": 32,
     "metadata": {},
     "output_type": "execute_result"
    }
   ],
   "source": [
    "df1 = concatenate_df1()\n",
    "print(df1.shape)\n",
    "df1.head()"
   ]
  },
  {
   "cell_type": "code",
   "execution_count": 33,
   "metadata": {},
   "outputs": [],
   "source": [
    "df1.to_csv('./df1.csv')"
   ]
  },
  {
   "cell_type": "code",
   "execution_count": null,
   "metadata": {},
   "outputs": [],
   "source": []
  }
 ],
 "metadata": {
  "kernelspec": {
   "display_name": "Python 3.9.12 ('base')",
   "language": "python",
   "name": "python3"
  },
  "language_info": {
   "codemirror_mode": {
    "name": "ipython",
    "version": 3
   },
   "file_extension": ".py",
   "mimetype": "text/x-python",
   "name": "python",
   "nbconvert_exporter": "python",
   "pygments_lexer": "ipython3",
   "version": "3.9.12"
  },
  "orig_nbformat": 4,
  "vscode": {
   "interpreter": {
    "hash": "8e76f8642360a3358ab06c318ab18c1161224eb3836609d5c16edea6f6e43dba"
   }
  }
 },
 "nbformat": 4,
 "nbformat_minor": 2
}
