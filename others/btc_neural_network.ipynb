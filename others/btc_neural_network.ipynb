{
 "cells": [
  {
   "cell_type": "code",
   "execution_count": 524,
   "metadata": {},
   "outputs": [],
   "source": [
    "import pandas as pd\n",
    "import yfinance as yf\n",
    "import mplfinance as mpf\n",
    "import warnings\n",
    "warnings.simplefilter(\"ignore\")\n",
    "import matplotlib.pyplot as plt\n",
    "import pandas as pd\n",
    "import numpy as np\n",
    "from keras.models import Sequential\n",
    "from keras.layers import Dense\n",
    "from keras.layers import LSTM\n",
    "from keras.layers import Dropout\n",
    "from keras.layers import *\n",
    "from sklearn.preprocessing import MinMaxScaler\n",
    "from sklearn.metrics import mean_squared_error\n",
    "from sklearn.metrics import mean_absolute_error\n",
    "from sklearn.model_selection import train_test_split"
   ]
  },
  {
   "cell_type": "code",
   "execution_count": 525,
   "metadata": {},
   "outputs": [
    {
     "name": "stdout",
     "output_type": "stream",
     "text": [
      "[*********************100%***********************]  1 of 1 completed\n"
     ]
    }
   ],
   "source": [
    "btc = yf.download('BTC-USD', start = \"2010-07-10\", end = \"2022-11-24\")"
   ]
  },
  {
   "cell_type": "code",
   "execution_count": 526,
   "metadata": {},
   "outputs": [],
   "source": [
    "#btc = pd.read_csv('../dataset/Dataframes_clean/df2.csv')"
   ]
  },
  {
   "cell_type": "code",
   "execution_count": 527,
   "metadata": {},
   "outputs": [],
   "source": [
    "btc = btc.reset_index()"
   ]
  },
  {
   "cell_type": "code",
   "execution_count": 528,
   "metadata": {},
   "outputs": [
    {
     "data": {
      "text/html": [
       "<div>\n",
       "<style scoped>\n",
       "    .dataframe tbody tr th:only-of-type {\n",
       "        vertical-align: middle;\n",
       "    }\n",
       "\n",
       "    .dataframe tbody tr th {\n",
       "        vertical-align: top;\n",
       "    }\n",
       "\n",
       "    .dataframe thead th {\n",
       "        text-align: right;\n",
       "    }\n",
       "</style>\n",
       "<table border=\"1\" class=\"dataframe\">\n",
       "  <thead>\n",
       "    <tr style=\"text-align: right;\">\n",
       "      <th></th>\n",
       "      <th>Date</th>\n",
       "      <th>Open</th>\n",
       "      <th>High</th>\n",
       "      <th>Low</th>\n",
       "      <th>Close</th>\n",
       "      <th>Adj Close</th>\n",
       "      <th>Volume</th>\n",
       "    </tr>\n",
       "  </thead>\n",
       "  <tbody>\n",
       "    <tr>\n",
       "      <th>0</th>\n",
       "      <td>2014-09-17</td>\n",
       "      <td>465.864014</td>\n",
       "      <td>468.174011</td>\n",
       "      <td>452.421997</td>\n",
       "      <td>457.334015</td>\n",
       "      <td>457.334015</td>\n",
       "      <td>21056800</td>\n",
       "    </tr>\n",
       "    <tr>\n",
       "      <th>1</th>\n",
       "      <td>2014-09-18</td>\n",
       "      <td>456.859985</td>\n",
       "      <td>456.859985</td>\n",
       "      <td>413.104004</td>\n",
       "      <td>424.440002</td>\n",
       "      <td>424.440002</td>\n",
       "      <td>34483200</td>\n",
       "    </tr>\n",
       "    <tr>\n",
       "      <th>2</th>\n",
       "      <td>2014-09-19</td>\n",
       "      <td>424.102997</td>\n",
       "      <td>427.834991</td>\n",
       "      <td>384.532013</td>\n",
       "      <td>394.795990</td>\n",
       "      <td>394.795990</td>\n",
       "      <td>37919700</td>\n",
       "    </tr>\n",
       "    <tr>\n",
       "      <th>3</th>\n",
       "      <td>2014-09-20</td>\n",
       "      <td>394.673004</td>\n",
       "      <td>423.295990</td>\n",
       "      <td>389.882996</td>\n",
       "      <td>408.903992</td>\n",
       "      <td>408.903992</td>\n",
       "      <td>36863600</td>\n",
       "    </tr>\n",
       "    <tr>\n",
       "      <th>4</th>\n",
       "      <td>2014-09-21</td>\n",
       "      <td>408.084991</td>\n",
       "      <td>412.425995</td>\n",
       "      <td>393.181000</td>\n",
       "      <td>398.821014</td>\n",
       "      <td>398.821014</td>\n",
       "      <td>26580100</td>\n",
       "    </tr>\n",
       "  </tbody>\n",
       "</table>\n",
       "</div>"
      ],
      "text/plain": [
       "        Date        Open        High         Low       Close   Adj Close  \\\n",
       "0 2014-09-17  465.864014  468.174011  452.421997  457.334015  457.334015   \n",
       "1 2014-09-18  456.859985  456.859985  413.104004  424.440002  424.440002   \n",
       "2 2014-09-19  424.102997  427.834991  384.532013  394.795990  394.795990   \n",
       "3 2014-09-20  394.673004  423.295990  389.882996  408.903992  408.903992   \n",
       "4 2014-09-21  408.084991  412.425995  393.181000  398.821014  398.821014   \n",
       "\n",
       "     Volume  \n",
       "0  21056800  \n",
       "1  34483200  \n",
       "2  37919700  \n",
       "3  36863600  \n",
       "4  26580100  "
      ]
     },
     "execution_count": 528,
     "metadata": {},
     "output_type": "execute_result"
    }
   ],
   "source": [
    "btc.head()"
   ]
  },
  {
   "cell_type": "code",
   "execution_count": 529,
   "metadata": {},
   "outputs": [],
   "source": [
    "#Divide data into training set and test set\n",
    "training_set = btc.iloc[:2300, 1:2].values\n",
    "test_set = btc.iloc[2300:, 1:2].values"
   ]
  },
  {
   "cell_type": "code",
   "execution_count": 530,
   "metadata": {},
   "outputs": [],
   "source": [
    "# Feature Scaling --> scale the stock prices between (0, 1) to avoid intensive computation. \n",
    "# Normalization\n",
    "sc = MinMaxScaler(feature_range = (0, 1))\n",
    "training_set_scaled = sc.fit_transform(training_set)\n",
    "# Creating a data structure with 60 time-steps and 1 output\n",
    "X_train = []\n",
    "y_train = []\n",
    "for i in range(60, len(training_set_scaled)):\n",
    "    X_train.append(training_set_scaled[i-60:i, 0])\n",
    "    y_train.append(training_set_scaled[i, 0])\n",
    "X_train, y_train = np.array(X_train), np.array(y_train)\n",
    "X_train = np.reshape(X_train, (X_train.shape[0], X_train.shape[1], 1))\n",
    "#(2240, 60, 1)"
   ]
  },
  {
   "cell_type": "code",
   "execution_count": 531,
   "metadata": {},
   "outputs": [
    {
     "data": {
      "text/plain": [
       "(2240, 60, 1)"
      ]
     },
     "execution_count": 531,
     "metadata": {},
     "output_type": "execute_result"
    }
   ],
   "source": [
    "X_train.shape"
   ]
  },
  {
   "cell_type": "code",
   "execution_count": 532,
   "metadata": {},
   "outputs": [
    {
     "name": "stdout",
     "output_type": "stream",
     "text": [
      "Epoch 1/50\n",
      "70/70 [==============================] - 9s 54ms/step - loss: 0.0067\n",
      "Epoch 2/50\n",
      "70/70 [==============================] - 4s 53ms/step - loss: 0.0021\n",
      "Epoch 3/50\n",
      "70/70 [==============================] - 4s 53ms/step - loss: 0.0018\n",
      "Epoch 4/50\n",
      "70/70 [==============================] - 4s 52ms/step - loss: 0.0018\n",
      "Epoch 5/50\n",
      "70/70 [==============================] - 4s 51ms/step - loss: 0.0015\n",
      "Epoch 6/50\n",
      "70/70 [==============================] - 4s 51ms/step - loss: 0.0015\n",
      "Epoch 7/50\n",
      "70/70 [==============================] - 4s 52ms/step - loss: 0.0012\n",
      "Epoch 8/50\n",
      "70/70 [==============================] - 4s 61ms/step - loss: 0.0012\n",
      "Epoch 9/50\n",
      "70/70 [==============================] - 4s 61ms/step - loss: 0.0011\n",
      "Epoch 10/50\n",
      "70/70 [==============================] - 4s 61ms/step - loss: 9.7134e-04\n",
      "Epoch 11/50\n",
      "70/70 [==============================] - 4s 61ms/step - loss: 0.0010\n",
      "Epoch 12/50\n",
      "70/70 [==============================] - 4s 63ms/step - loss: 9.5813e-04\n",
      "Epoch 13/50\n",
      "70/70 [==============================] - 4s 62ms/step - loss: 8.6803e-04\n",
      "Epoch 14/50\n",
      "70/70 [==============================] - 4s 62ms/step - loss: 9.7903e-04\n",
      "Epoch 15/50\n",
      "70/70 [==============================] - 4s 62ms/step - loss: 0.0011\n",
      "Epoch 16/50\n",
      "70/70 [==============================] - 5s 69ms/step - loss: 0.0011\n",
      "Epoch 17/50\n",
      "70/70 [==============================] - 5s 67ms/step - loss: 8.9538e-04\n",
      "Epoch 18/50\n",
      "70/70 [==============================] - 5s 67ms/step - loss: 8.8809e-04\n",
      "Epoch 19/50\n",
      "70/70 [==============================] - 5s 68ms/step - loss: 7.4766e-04\n",
      "Epoch 20/50\n",
      "70/70 [==============================] - 5s 68ms/step - loss: 8.0487e-04\n",
      "Epoch 21/50\n",
      "70/70 [==============================] - 5s 77ms/step - loss: 7.3023e-04\n",
      "Epoch 22/50\n",
      "70/70 [==============================] - 5s 70ms/step - loss: 7.7696e-04\n",
      "Epoch 23/50\n",
      "70/70 [==============================] - 5s 70ms/step - loss: 8.5501e-04\n",
      "Epoch 24/50\n",
      "70/70 [==============================] - 5s 71ms/step - loss: 6.7532e-04\n",
      "Epoch 25/50\n",
      "70/70 [==============================] - 5s 72ms/step - loss: 6.3681e-04\n",
      "Epoch 26/50\n",
      "70/70 [==============================] - 5s 72ms/step - loss: 6.8378e-04\n",
      "Epoch 27/50\n",
      "70/70 [==============================] - 5s 72ms/step - loss: 7.6990e-04\n",
      "Epoch 28/50\n",
      "70/70 [==============================] - 5s 74ms/step - loss: 6.3985e-04\n",
      "Epoch 29/50\n",
      "70/70 [==============================] - 5s 74ms/step - loss: 7.1343e-04\n",
      "Epoch 30/50\n",
      "70/70 [==============================] - 5s 74ms/step - loss: 6.3937e-04\n",
      "Epoch 31/50\n",
      "70/70 [==============================] - 5s 74ms/step - loss: 7.0515e-04\n",
      "Epoch 32/50\n",
      "70/70 [==============================] - 5s 78ms/step - loss: 6.7693e-04\n",
      "Epoch 33/50\n",
      "70/70 [==============================] - 5s 75ms/step - loss: 6.4310e-04\n",
      "Epoch 34/50\n",
      "70/70 [==============================] - 5s 75ms/step - loss: 7.1930e-04\n",
      "Epoch 35/50\n",
      "70/70 [==============================] - 5s 76ms/step - loss: 6.1076e-04\n",
      "Epoch 36/50\n",
      "70/70 [==============================] - 5s 76ms/step - loss: 6.5994e-04\n",
      "Epoch 37/50\n",
      "70/70 [==============================] - 5s 76ms/step - loss: 6.1642e-04\n",
      "Epoch 38/50\n",
      "70/70 [==============================] - 5s 78ms/step - loss: 6.5023e-04\n",
      "Epoch 39/50\n",
      "70/70 [==============================] - 6s 79ms/step - loss: 5.4514e-04\n",
      "Epoch 40/50\n",
      "70/70 [==============================] - 6s 80ms/step - loss: 5.5779e-04\n",
      "Epoch 41/50\n",
      "70/70 [==============================] - 6s 79ms/step - loss: 6.4935e-04\n",
      "Epoch 42/50\n",
      "70/70 [==============================] - 5s 78ms/step - loss: 5.4275e-04\n",
      "Epoch 43/50\n",
      "70/70 [==============================] - 6s 79ms/step - loss: 7.0776e-04\n",
      "Epoch 44/50\n",
      "70/70 [==============================] - 5s 78ms/step - loss: 4.9307e-04\n",
      "Epoch 45/50\n",
      "70/70 [==============================] - 5s 78ms/step - loss: 4.7648e-04\n",
      "Epoch 46/50\n",
      "70/70 [==============================] - 6s 79ms/step - loss: 5.6708e-04\n",
      "Epoch 47/50\n",
      "70/70 [==============================] - 6s 80ms/step - loss: 6.4289e-04\n",
      "Epoch 48/50\n",
      "70/70 [==============================] - 6s 82ms/step - loss: 6.4593e-04\n",
      "Epoch 49/50\n",
      "70/70 [==============================] - 8s 117ms/step - loss: 5.4885e-04\n",
      "Epoch 50/50\n",
      "70/70 [==============================] - 8s 113ms/step - loss: 7.0360e-04\n"
     ]
    },
    {
     "data": {
      "text/plain": [
       "<keras.callbacks.History at 0x1f21907b6d0>"
      ]
     },
     "execution_count": 532,
     "metadata": {},
     "output_type": "execute_result"
    }
   ],
   "source": [
    "model = Sequential()\n",
    "#Adding the first LSTM layer and some Dropout regularization\n",
    "model.add(LSTM(units = 50, return_sequences = True, input_shape = (X_train.shape[1], 1)))\n",
    "model.add(Dropout(0.2))\n",
    "# Adding a second LSTM layer and some Dropout regularization\n",
    "model.add(LSTM(units = 50, return_sequences = True))\n",
    "model.add(Dropout(0.2))\n",
    "# Adding a third LSTM layer and some Dropout regularization\n",
    "model.add(LSTM(units = 50, return_sequences = True))\n",
    "model.add(Dropout(0.2))\n",
    "# Adding a fourth LSTM layer and some Dropout regularization\n",
    "model.add(LSTM(units = 50))\n",
    "model.add(Dropout(0.2))\n",
    "# Adding the output layer\n",
    "model.add(Dense(units = 1))\n",
    "\n",
    "# Compiling the RNN\n",
    "model.compile(optimizer = 'adam', loss = 'mean_squared_error')\n",
    "\n",
    "# Fitting the RNN to the Training set\n",
    "model.fit(X_train, y_train, epochs = 50, batch_size = 32)"
   ]
  },
  {
   "cell_type": "code",
   "execution_count": 533,
   "metadata": {},
   "outputs": [],
   "source": [
    "real_btc_price = test_set"
   ]
  },
  {
   "cell_type": "code",
   "execution_count": 534,
   "metadata": {},
   "outputs": [],
   "source": [
    "#Concatenate the train and test datasets for prediction, because we use the previous 60 days’ stock prices to predict the next-day price. \n",
    "#In another word, we need the 60 days’ price before the 1st date in the test dataset.\n",
    "dataset_train = btc.iloc[:2300, 1:2]\n",
    "dataset_test = btc.iloc[2300:, 1:2]\n",
    "dataset_total = pd.concat((dataset_train, dataset_test), axis = 0)"
   ]
  },
  {
   "cell_type": "code",
   "execution_count": 535,
   "metadata": {},
   "outputs": [
    {
     "data": {
      "text/plain": [
       "2990"
      ]
     },
     "execution_count": 535,
     "metadata": {},
     "output_type": "execute_result"
    }
   ],
   "source": [
    "len(dataset_total)"
   ]
  },
  {
   "cell_type": "code",
   "execution_count": 536,
   "metadata": {},
   "outputs": [],
   "source": [
    "#Create the input for prediction, index starting from the date 60 days before the first date in the test dataset.\n",
    "inputs = dataset_total[len(dataset_total) - len(dataset_test) - 60:].values\n",
    "#Reshape to have only 1 column\n",
    "inputs = inputs.reshape(-1,1)\n",
    "#Using the scale set by the training set, scale the test inputs.\n",
    "inputs = sc.transform(inputs)"
   ]
  },
  {
   "cell_type": "code",
   "execution_count": 537,
   "metadata": {},
   "outputs": [
    {
     "name": "stdout",
     "output_type": "stream",
     "text": [
      "(690, 60, 1)\n"
     ]
    }
   ],
   "source": [
    "#Create test data structure\n",
    "X_test = []\n",
    "for i in range(60, len(inputs)):\n",
    "    X_test.append(inputs[i-60:i, 0])\n",
    "X_test = np.array(X_test)\n",
    "X_test = np.reshape(X_test, newshape = (X_test.shape[0], X_test.shape[1], 1))\n",
    "print(X_test.shape)\n",
    "# (690, 60, 1)"
   ]
  },
  {
   "cell_type": "code",
   "execution_count": 538,
   "metadata": {},
   "outputs": [
    {
     "name": "stdout",
     "output_type": "stream",
     "text": [
      "22/22 [==============================] - 4s 37ms/step\n"
     ]
    }
   ],
   "source": [
    "#X_test ready for prediction\n",
    "predicted_btc_price = model.predict(X_test)"
   ]
  },
  {
   "cell_type": "code",
   "execution_count": 539,
   "metadata": {},
   "outputs": [],
   "source": [
    "#We have predicted the scaled values, so we need to reverse the prediction.\n",
    "predicted_btc_price = sc.inverse_transform(predicted_btc_price)\n"
   ]
  },
  {
   "cell_type": "code",
   "execution_count": 540,
   "metadata": {},
   "outputs": [
    {
     "data": {
      "text/plain": [
       "array([32129.40820312])"
      ]
     },
     "execution_count": 540,
     "metadata": {},
     "output_type": "execute_result"
    }
   ],
   "source": [
    "real_btc_price[0]"
   ]
  },
  {
   "cell_type": "code",
   "execution_count": 541,
   "metadata": {},
   "outputs": [
    {
     "data": {
      "text/plain": [
       "690"
      ]
     },
     "execution_count": 541,
     "metadata": {},
     "output_type": "execute_result"
    }
   ],
   "source": [
    "len(predicted_btc_price)"
   ]
  },
  {
   "cell_type": "code",
   "execution_count": 552,
   "metadata": {},
   "outputs": [
    {
     "data": {
      "image/png": "[encoded data removed]",
      "text/plain": [
       "<Figure size 640x480 with 1 Axes>"
      ]
     },
     "metadata": {},
     "output_type": "display_data"
    }
   ],
   "source": [
    "plt.plot(real_btc_price[:500], color = \"r\", label = 'Real price')\n",
    "plt.plot(predicted_btc_price, color = \"b\", label = 'Predicted price')\n",
    "plt.title('Bitcoin price prediction')\n",
    "plt.xlabel('Time')\n",
    "#plt.yscale('log')\n",
    "plt.ylabel('Price')\n",
    "plt.legend()\n",
    "plt.show()"
   ]
  }
 ],
 "metadata": {
  "kernelspec": {
   "display_name": "Python 3.9.12 ('base')",
   "language": "python",
   "name": "python3"
  },
  "language_info": {
   "codemirror_mode": {
    "name": "ipython",
    "version": 3
   },
   "file_extension": ".py",
   "mimetype": "text/x-python",
   "name": "python",
   "nbconvert_exporter": "python",
   "pygments_lexer": "ipython3",
   "version": "3.9.12"
  },
  "orig_nbformat": 4,
  "vscode": {
   "interpreter": {
    "hash": "8e76f8642360a3358ab06c318ab18c1161224eb3836609d5c16edea6f6e43dba"
   }
  }
 },
 "nbformat": 4,
 "nbformat_minor": 2
}
