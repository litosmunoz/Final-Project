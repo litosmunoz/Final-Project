{
 "cells": [
  {
   "cell_type": "code",
   "execution_count": 3,
   "metadata": {},
   "outputs": [],
   "source": [
    "import pandas as pd\n",
    "import seaborn as sns\n",
    "import matplotlib.pyplot as plt\n",
    "%matplotlib inline\n",
    "%config Inlinebackend.figure_format= 'retina'\n",
    "sns.set_context(\"poster\")\n",
    "sns.set(rc={\"figure.figsize\": (12.,6.)})\n",
    "sns.set_style(\"white\")"
   ]
  },
  {
   "cell_type": "code",
   "execution_count": 4,
   "metadata": {},
   "outputs": [],
   "source": [
    "m2 = pd.read_csv ('../../dataset/Indicators/monetary_supply.csv', encoding='unicode_escape')"
   ]
  },
  {
   "cell_type": "code",
   "execution_count": 5,
   "metadata": {},
   "outputs": [
    {
     "data": {
      "text/html": [
       "<div>\n",
       "<style scoped>\n",
       "    .dataframe tbody tr th:only-of-type {\n",
       "        vertical-align: middle;\n",
       "    }\n",
       "\n",
       "    .dataframe tbody tr th {\n",
       "        vertical-align: top;\n",
       "    }\n",
       "\n",
       "    .dataframe thead th {\n",
       "        text-align: right;\n",
       "    }\n",
       "</style>\n",
       "<table border=\"1\" class=\"dataframe\">\n",
       "  <thead>\n",
       "    <tr style=\"text-align: right;\">\n",
       "      <th></th>\n",
       "      <th>time</th>\n",
       "      <th>close</th>\n",
       "      <th>close (in billions)</th>\n",
       "    </tr>\n",
       "  </thead>\n",
       "  <tbody>\n",
       "    <tr>\n",
       "      <th>0</th>\n",
       "      <td>1959-01-01T01:00:00+01:00</td>\n",
       "      <td>2.870000e+11</td>\n",
       "      <td>286.6</td>\n",
       "    </tr>\n",
       "    <tr>\n",
       "      <th>1</th>\n",
       "      <td>1959-02-01T01:00:00+01:00</td>\n",
       "      <td>2.880000e+11</td>\n",
       "      <td>287.7</td>\n",
       "    </tr>\n",
       "    <tr>\n",
       "      <th>2</th>\n",
       "      <td>1959-03-01T01:00:00+01:00</td>\n",
       "      <td>2.890000e+11</td>\n",
       "      <td>289.2</td>\n",
       "    </tr>\n",
       "    <tr>\n",
       "      <th>3</th>\n",
       "      <td>1959-04-01T01:00:00+01:00</td>\n",
       "      <td>2.900000e+11</td>\n",
       "      <td>290.1</td>\n",
       "    </tr>\n",
       "    <tr>\n",
       "      <th>4</th>\n",
       "      <td>1959-05-01T01:00:00+01:00</td>\n",
       "      <td>2.920000e+11</td>\n",
       "      <td>292.2</td>\n",
       "    </tr>\n",
       "  </tbody>\n",
       "</table>\n",
       "</div>"
      ],
      "text/plain": [
       "                        time         close  close (in billions)\n",
       "0  1959-01-01T01:00:00+01:00  2.870000e+11                286.6\n",
       "1  1959-02-01T01:00:00+01:00  2.880000e+11                287.7\n",
       "2  1959-03-01T01:00:00+01:00  2.890000e+11                289.2\n",
       "3  1959-04-01T01:00:00+01:00  2.900000e+11                290.1\n",
       "4  1959-05-01T01:00:00+01:00  2.920000e+11                292.2"
      ]
     },
     "execution_count": 5,
     "metadata": {},
     "output_type": "execute_result"
    }
   ],
   "source": [
    "m2.head()"
   ]
  },
  {
   "cell_type": "code",
   "execution_count": 6,
   "metadata": {},
   "outputs": [],
   "source": [
    "def cleaned_indicator(df): \n",
    "    df['time'] = df['time'].str.extract('(\\d{4}-\\d{2}-\\d{2})', expand=True)\n",
    "    df['time'] = pd.to_datetime(df[\"time\"])\n",
    "    df.set_index('time', inplace=True)\n",
    "    df= df.reindex(pd.date_range(start=df.index.min(),\n",
    "                                                  end=df.index.max(),\n",
    "                                                  freq='1D'))\n",
    "    df.interpolate(method='linear', inplace=True)\n",
    "    df.index.names = ['Dates']\n",
    "    df = df[(df.index >= '1976-06-01') & (df.index <= '2022-11-02')]\n",
    "    return df\n"
   ]
  },
  {
   "cell_type": "code",
   "execution_count": 7,
   "metadata": {},
   "outputs": [],
   "source": [
    "m2 = cleaned_indicator(m2)"
   ]
  },
  {
   "cell_type": "code",
   "execution_count": 8,
   "metadata": {},
   "outputs": [
    {
     "data": {
      "text/plain": [
       "close                  0\n",
       "close (in billions)    0\n",
       "dtype: int64"
      ]
     },
     "execution_count": 8,
     "metadata": {},
     "output_type": "execute_result"
    }
   ],
   "source": [
    "m2.isna().sum()"
   ]
  },
  {
   "cell_type": "code",
   "execution_count": 13,
   "metadata": {},
   "outputs": [],
   "source": [
    "def m2_visualization():\n",
    "    plt.plot(m2['close (in billions)'], color= 'b')\n",
    "    plt.title('Monetary Supply (M2)', fontsize= 20)\n",
    "    plt.figtext(0.55, 0.7, \n",
    "            \"Exponential Curve\",\n",
    "            horizontalalignment =\"center\",\n",
    "            wrap = True, fontsize = 16, \n",
    "            bbox ={'facecolor':'grey', \n",
    "                   'alpha':0.3, 'pad':5})\n",
    "    plt.xlabel('Years', fontsize= 15)\n",
    "    plt.ylabel('M2 (in billions)', fontsize= 15)\n",
    "    plt.style.use('seaborn')\n",
    "    return plt.show()"
   ]
  },
  {
   "cell_type": "code",
   "execution_count": 14,
   "metadata": {},
   "outputs": [
    {
     "data": {
      "image/png": "[encoded data removed]",
      "text/plain": [
       "<Figure size 576x396 with 1 Axes>"
      ]
     },
     "metadata": {},
     "output_type": "display_data"
    }
   ],
   "source": [
    "m2_visualization()"
   ]
  },
  {
   "cell_type": "code",
   "execution_count": null,
   "metadata": {},
   "outputs": [],
   "source": []
  }
 ],
 "metadata": {
  "kernelspec": {
   "display_name": "Python 3.9.12 ('base')",
   "language": "python",
   "name": "python3"
  },
  "language_info": {
   "codemirror_mode": {
    "name": "ipython",
    "version": 3
   },
   "file_extension": ".py",
   "mimetype": "text/x-python",
   "name": "python",
   "nbconvert_exporter": "python",
   "pygments_lexer": "ipython3",
   "version": "3.9.12"
  },
  "orig_nbformat": 4,
  "vscode": {
   "interpreter": {
    "hash": "8e76f8642360a3358ab06c318ab18c1161224eb3836609d5c16edea6f6e43dba"
   }
  }
 },
 "nbformat": 4,
 "nbformat_minor": 2
}
