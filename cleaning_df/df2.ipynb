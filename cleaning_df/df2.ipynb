{
 "cells": [
  {
   "cell_type": "code",
   "execution_count": 31,
   "metadata": {},
   "outputs": [],
   "source": [
    "import pandas as pd"
   ]
  },
  {
   "cell_type": "code",
   "execution_count": 32,
   "metadata": {},
   "outputs": [],
   "source": [
    "bonds = pd.read_csv ('../dataset/Indicators/bonds.csv', encoding='unicode_escape')\n",
    "dxy = pd.read_csv ('../dataset/Indicators/dxy.csv', encoding='unicode_escape')\n",
    "interest_rates = pd.read_csv ('../dataset/Indicators/interest_rates.csv', encoding='unicode_escape')\n",
    "vix = pd.read_csv ('../dataset/Indicators/vix.csv', encoding='unicode_escape')\n",
    "gdp = pd.read_csv ('../dataset/Indicators/gdp.csv', encoding='unicode_escape')\n",
    "pmi = pd.read_csv ('../dataset/Indicators/pmi_.csv', encoding='unicode_escape')\n",
    "unemployment_rate = pd.read_csv ('../dataset/Indicators/unemployment_rate.csv', encoding='unicode_escape')\n",
    "cpi = pd.read_csv ('../dataset/Indicators/cpi_yoy.csv', encoding='unicode_escape')\n",
    "m2 = pd.read_csv ('../dataset/Indicators/monetary_supply.csv', encoding='unicode_escape')\n",
    "btc = pd.read_csv('../dataset/Assets/btc_price.csv', encoding='unicode_escape')"
   ]
  },
  {
   "cell_type": "code",
   "execution_count": 33,
   "metadata": {},
   "outputs": [],
   "source": [
    "def clean_df2(df): \n",
    "    df['time'] = df['time'].str.extract('(\\d{4}-\\d{2}-\\d{2})', expand=True)\n",
    "    df['time'] = pd.to_datetime(df[\"time\"])\n",
    "    df.set_index('time', inplace=True)\n",
    "    df= df.reindex(pd.date_range(start=df.index.min(),\n",
    "                                                  end=df.index.max(),\n",
    "                                                  freq='1D'))\n",
    "    df.interpolate(method='linear', inplace=True)\n",
    "    df.index.names = ['Dates']\n",
    "    df = df[(df.index >= '2010-07-17') & (df.index <= '2022-11-02')]\n",
    "    return df"
   ]
  },
  {
   "cell_type": "code",
   "execution_count": 35,
   "metadata": {},
   "outputs": [
    {
     "data": {
      "text/html": [
       "<div>\n",
       "<style scoped>\n",
       "    .dataframe tbody tr th:only-of-type {\n",
       "        vertical-align: middle;\n",
       "    }\n",
       "\n",
       "    .dataframe tbody tr th {\n",
       "        vertical-align: top;\n",
       "    }\n",
       "\n",
       "    .dataframe thead th {\n",
       "        text-align: right;\n",
       "    }\n",
       "</style>\n",
       "<table border=\"1\" class=\"dataframe\">\n",
       "  <thead>\n",
       "    <tr style=\"text-align: right;\">\n",
       "      <th></th>\n",
       "      <th>time</th>\n",
       "      <th>close</th>\n",
       "    </tr>\n",
       "  </thead>\n",
       "  <tbody>\n",
       "    <tr>\n",
       "      <th>0</th>\n",
       "      <td>2010-07-17T02:00:00+02:00</td>\n",
       "      <td>0.04951</td>\n",
       "    </tr>\n",
       "    <tr>\n",
       "      <th>1</th>\n",
       "      <td>2010-07-18T02:00:00+02:00</td>\n",
       "      <td>0.08584</td>\n",
       "    </tr>\n",
       "    <tr>\n",
       "      <th>2</th>\n",
       "      <td>2010-07-19T02:00:00+02:00</td>\n",
       "      <td>0.08080</td>\n",
       "    </tr>\n",
       "    <tr>\n",
       "      <th>3</th>\n",
       "      <td>2010-07-20T02:00:00+02:00</td>\n",
       "      <td>0.07474</td>\n",
       "    </tr>\n",
       "    <tr>\n",
       "      <th>4</th>\n",
       "      <td>2010-07-21T02:00:00+02:00</td>\n",
       "      <td>0.07921</td>\n",
       "    </tr>\n",
       "  </tbody>\n",
       "</table>\n",
       "</div>"
      ],
      "text/plain": [
       "                        time    close\n",
       "0  2010-07-17T02:00:00+02:00  0.04951\n",
       "1  2010-07-18T02:00:00+02:00  0.08584\n",
       "2  2010-07-19T02:00:00+02:00  0.08080\n",
       "3  2010-07-20T02:00:00+02:00  0.07474\n",
       "4  2010-07-21T02:00:00+02:00  0.07921"
      ]
     },
     "execution_count": 35,
     "metadata": {},
     "output_type": "execute_result"
    }
   ],
   "source": [
    "#This df is going to start from 2010 as we dont have previous price data from btc.\n",
    "btc.head()"
   ]
  },
  {
   "cell_type": "code",
   "execution_count": 36,
   "metadata": {},
   "outputs": [],
   "source": [
    "bonds = clean_df2(bonds)\n",
    "dxy = clean_df2(dxy)\n",
    "interest_rates = clean_df2(interest_rates)\n",
    "vix = clean_df2(vix)\n",
    "gdp = clean_df2(gdp)\n",
    "pmi = clean_df2(pmi)\n",
    "unemployment_rate = clean_df2(unemployment_rate)\n",
    "cpi = clean_df2(cpi)\n",
    "m2 = clean_df2(m2)\n",
    "btc = clean_df2(btc)"
   ]
  },
  {
   "cell_type": "code",
   "execution_count": 37,
   "metadata": {},
   "outputs": [],
   "source": [
    "def concatenate_df2():\n",
    "    df2 = pd.concat([bonds, dxy, interest_rates, vix, gdp, pmi, unemployment_rate, cpi, m2, btc], axis = 1)\n",
    "    df2.columns = [\"10y_2y_bonds_spread\", 'dxy', 'interest_rates', \"vix\", \"gdp\", \"pmi\", \"unemployment_rate\", \"cpi\", \"m2\", \"m2(in billions)\", \"btc_price\"]\n",
    "    df2.drop(columns=\"m2\", inplace=True)\n",
    "    return df2"
   ]
  },
  {
   "cell_type": "code",
   "execution_count": 40,
   "metadata": {},
   "outputs": [
    {
     "name": "stdout",
     "output_type": "stream",
     "text": [
      "(4492, 10)\n"
     ]
    },
    {
     "data": {
      "text/html": [
       "<div>\n",
       "<style scoped>\n",
       "    .dataframe tbody tr th:only-of-type {\n",
       "        vertical-align: middle;\n",
       "    }\n",
       "\n",
       "    .dataframe tbody tr th {\n",
       "        vertical-align: top;\n",
       "    }\n",
       "\n",
       "    .dataframe thead th {\n",
       "        text-align: right;\n",
       "    }\n",
       "</style>\n",
       "<table border=\"1\" class=\"dataframe\">\n",
       "  <thead>\n",
       "    <tr style=\"text-align: right;\">\n",
       "      <th></th>\n",
       "      <th>10y_2y_bonds_spread</th>\n",
       "      <th>dxy</th>\n",
       "      <th>interest_rates</th>\n",
       "      <th>vix</th>\n",
       "      <th>gdp</th>\n",
       "      <th>pmi</th>\n",
       "      <th>unemployment_rate</th>\n",
       "      <th>cpi</th>\n",
       "      <th>m2(in billions)</th>\n",
       "      <th>btc_price</th>\n",
       "    </tr>\n",
       "    <tr>\n",
       "      <th>Dates</th>\n",
       "      <th></th>\n",
       "      <th></th>\n",
       "      <th></th>\n",
       "      <th></th>\n",
       "      <th></th>\n",
       "      <th></th>\n",
       "      <th></th>\n",
       "      <th></th>\n",
       "      <th></th>\n",
       "      <th></th>\n",
       "    </tr>\n",
       "  </thead>\n",
       "  <tbody>\n",
       "    <tr>\n",
       "      <th>2010-07-17</th>\n",
       "      <td>2.36</td>\n",
       "      <td>82.5380</td>\n",
       "      <td>0.25</td>\n",
       "      <td>26.156667</td>\n",
       "      <td>3.150000</td>\n",
       "      <td>57.225806</td>\n",
       "      <td>9.451613</td>\n",
       "      <td>1.148387</td>\n",
       "      <td>8644.761290</td>\n",
       "      <td>0.04951</td>\n",
       "    </tr>\n",
       "    <tr>\n",
       "      <th>2010-07-18</th>\n",
       "      <td>2.37</td>\n",
       "      <td>82.5900</td>\n",
       "      <td>0.25</td>\n",
       "      <td>26.063333</td>\n",
       "      <td>3.155435</td>\n",
       "      <td>57.277419</td>\n",
       "      <td>9.454839</td>\n",
       "      <td>1.145161</td>\n",
       "      <td>8646.383871</td>\n",
       "      <td>0.08584</td>\n",
       "    </tr>\n",
       "    <tr>\n",
       "      <th>2010-07-19</th>\n",
       "      <td>2.38</td>\n",
       "      <td>82.6695</td>\n",
       "      <td>0.25</td>\n",
       "      <td>25.970000</td>\n",
       "      <td>3.160870</td>\n",
       "      <td>57.329032</td>\n",
       "      <td>9.458065</td>\n",
       "      <td>1.141935</td>\n",
       "      <td>8648.006452</td>\n",
       "      <td>0.08080</td>\n",
       "    </tr>\n",
       "    <tr>\n",
       "      <th>2010-07-20</th>\n",
       "      <td>2.37</td>\n",
       "      <td>82.7490</td>\n",
       "      <td>0.25</td>\n",
       "      <td>23.929990</td>\n",
       "      <td>3.166304</td>\n",
       "      <td>57.380645</td>\n",
       "      <td>9.461290</td>\n",
       "      <td>1.138710</td>\n",
       "      <td>8649.629032</td>\n",
       "      <td>0.07474</td>\n",
       "    </tr>\n",
       "    <tr>\n",
       "      <th>2010-07-21</th>\n",
       "      <td>2.32</td>\n",
       "      <td>83.2350</td>\n",
       "      <td>0.25</td>\n",
       "      <td>25.640000</td>\n",
       "      <td>3.171739</td>\n",
       "      <td>57.432258</td>\n",
       "      <td>9.464516</td>\n",
       "      <td>1.135484</td>\n",
       "      <td>8651.251613</td>\n",
       "      <td>0.07921</td>\n",
       "    </tr>\n",
       "  </tbody>\n",
       "</table>\n",
       "</div>"
      ],
      "text/plain": [
       "            10y_2y_bonds_spread      dxy  interest_rates        vix       gdp  \\\n",
       "Dates                                                                           \n",
       "2010-07-17                 2.36  82.5380            0.25  26.156667  3.150000   \n",
       "2010-07-18                 2.37  82.5900            0.25  26.063333  3.155435   \n",
       "2010-07-19                 2.38  82.6695            0.25  25.970000  3.160870   \n",
       "2010-07-20                 2.37  82.7490            0.25  23.929990  3.166304   \n",
       "2010-07-21                 2.32  83.2350            0.25  25.640000  3.171739   \n",
       "\n",
       "                  pmi  unemployment_rate       cpi  m2(in billions)  btc_price  \n",
       "Dates                                                                           \n",
       "2010-07-17  57.225806           9.451613  1.148387      8644.761290    0.04951  \n",
       "2010-07-18  57.277419           9.454839  1.145161      8646.383871    0.08584  \n",
       "2010-07-19  57.329032           9.458065  1.141935      8648.006452    0.08080  \n",
       "2010-07-20  57.380645           9.461290  1.138710      8649.629032    0.07474  \n",
       "2010-07-21  57.432258           9.464516  1.135484      8651.251613    0.07921  "
      ]
     },
     "execution_count": 40,
     "metadata": {},
     "output_type": "execute_result"
    }
   ],
   "source": [
    "df2 = concatenate_df2()\n",
    "print(df2.shape)\n",
    "df2.head()"
   ]
  },
  {
   "cell_type": "code",
   "execution_count": 39,
   "metadata": {},
   "outputs": [],
   "source": [
    "df2.to_csv('./df2.csv')"
   ]
  }
 ],
 "metadata": {
  "kernelspec": {
   "display_name": "Python 3.9.12 ('base')",
   "language": "python",
   "name": "python3"
  },
  "language_info": {
   "codemirror_mode": {
    "name": "ipython",
    "version": 3
   },
   "file_extension": ".py",
   "mimetype": "text/x-python",
   "name": "python",
   "nbconvert_exporter": "python",
   "pygments_lexer": "ipython3",
   "version": "3.9.12"
  },
  "orig_nbformat": 4,
  "vscode": {
   "interpreter": {
    "hash": "8e76f8642360a3358ab06c318ab18c1161224eb3836609d5c16edea6f6e43dba"
   }
  }
 },
 "nbformat": 4,
 "nbformat_minor": 2
}
