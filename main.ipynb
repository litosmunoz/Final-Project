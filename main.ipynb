{
 "cells": [
  {
   "cell_type": "code",
   "execution_count": 201,
   "metadata": {},
   "outputs": [],
   "source": [
    "from pybit import inverse_perpetual  # <-- import HTTP & WSS for inverse perp\n",
    "from pybit import spot  # <-- import HTTP & WSS for spot\n",
    "from pybit import HTTP  # supports inverse perp & futures, usdt perp, spot.\n",
    "from pybit.spot import HTTP\n",
    "from pprint import pprint\n",
    "from dotenv import load_dotenv\n",
    "import os\n",
    "import json\n",
    "import pandas as pd\n",
    "from time import sleep"
   ]
  },
  {
   "cell_type": "code",
   "execution_count": 202,
   "metadata": {},
   "outputs": [
    {
     "data": {
      "text/plain": [
       "True"
      ]
     },
     "execution_count": 202,
     "metadata": {},
     "output_type": "execute_result"
    }
   ],
   "source": [
    "load_dotenv()"
   ]
  },
  {
   "cell_type": "code",
   "execution_count": 203,
   "metadata": {},
   "outputs": [],
   "source": [
    "api_key_pw = os.getenv('api_key')\n",
    "api_secret_pw = os.getenv('api_secret')\n"
   ]
  },
  {
   "cell_type": "code",
   "execution_count": 204,
   "metadata": {},
   "outputs": [],
   "source": [
    "session = inverse_perpetual.HTTP(\n",
    "    endpoint='https://api.bybit.com', \n",
    "    api_key= api_key_pw,\n",
    "    api_secret= api_secret_pw\n",
    ")\n",
    "ws = inverse_perpetual.WebSocket(\n",
    "    test=False,\n",
    "    api_key= api_key_pw,\n",
    "    api_secret= api_secret_pw\n",
    ")"
   ]
  },
  {
   "cell_type": "code",
   "execution_count": 205,
   "metadata": {},
   "outputs": [
    {
     "data": {
      "text/plain": [
       "Index(['symbol', 'bid_price', 'ask_price', 'last_price', 'last_tick_direction',\n",
       "       'prev_price_24h', 'price_24h_pcnt', 'high_price_24h', 'low_price_24h',\n",
       "       'prev_price_1h', 'mark_price', 'index_price', 'open_interest',\n",
       "       'countdown_hour', 'turnover_24h', 'volume_24h', 'funding_rate',\n",
       "       'predicted_funding_rate', 'next_funding_time',\n",
       "       'predicted_delivery_price', 'total_turnover', 'total_volume',\n",
       "       'delivery_fee_rate', 'delivery_time', 'price_1h_pcnt', 'open_value'],\n",
       "      dtype='object')"
      ]
     },
     "execution_count": 205,
     "metadata": {},
     "output_type": "execute_result"
    }
   ],
   "source": [
    "pd.DataFrame(session.latest_information_for_symbol(symbol ='BTCUSD')[\"result\"]).keys()"
   ]
  },
  {
   "cell_type": "code",
   "execution_count": 206,
   "metadata": {},
   "outputs": [
    {
     "data": {
      "text/plain": [
       "{'symbol': 'BTCUSD', 'price': '16825.5', 'side': 'Buy', 'size': 273276}"
      ]
     },
     "execution_count": 206,
     "metadata": {},
     "output_type": "execute_result"
    }
   ],
   "source": [
    "session.orderbook(symbol='BTCUSD')['result'][0]"
   ]
  },
  {
   "cell_type": "code",
   "execution_count": 207,
   "metadata": {},
   "outputs": [
    {
     "data": {
      "text/html": [
       "<div>\n",
       "<style scoped>\n",
       "    .dataframe tbody tr th:only-of-type {\n",
       "        vertical-align: middle;\n",
       "    }\n",
       "\n",
       "    .dataframe tbody tr th {\n",
       "        vertical-align: top;\n",
       "    }\n",
       "\n",
       "    .dataframe thead th {\n",
       "        text-align: right;\n",
       "    }\n",
       "</style>\n",
       "<table border=\"1\" class=\"dataframe\">\n",
       "  <thead>\n",
       "    <tr style=\"text-align: right;\">\n",
       "      <th></th>\n",
       "      <th>name</th>\n",
       "      <th>alias</th>\n",
       "      <th>status</th>\n",
       "      <th>base_currency</th>\n",
       "      <th>quote_currency</th>\n",
       "      <th>price_scale</th>\n",
       "      <th>taker_fee</th>\n",
       "      <th>maker_fee</th>\n",
       "      <th>funding_interval</th>\n",
       "      <th>leverage_filter</th>\n",
       "      <th>price_filter</th>\n",
       "      <th>lot_size_filter</th>\n",
       "    </tr>\n",
       "  </thead>\n",
       "  <tbody>\n",
       "    <tr>\n",
       "      <th>43</th>\n",
       "      <td>BTCUSDT</td>\n",
       "      <td>BTCUSDT</td>\n",
       "      <td>Trading</td>\n",
       "      <td>BTC</td>\n",
       "      <td>USDT</td>\n",
       "      <td>2</td>\n",
       "      <td>0.0006</td>\n",
       "      <td>0.0001</td>\n",
       "      <td>480</td>\n",
       "      <td>{'min_leverage': 1, 'max_leverage': 100, 'leve...</td>\n",
       "      <td>{'min_price': '0.50', 'max_price': '999999.00'...</td>\n",
       "      <td>{'max_trading_qty': 420, 'min_trading_qty': 0....</td>\n",
       "    </tr>\n",
       "  </tbody>\n",
       "</table>\n",
       "</div>"
      ],
      "text/plain": [
       "       name    alias   status base_currency quote_currency  price_scale  \\\n",
       "43  BTCUSDT  BTCUSDT  Trading           BTC           USDT            2   \n",
       "\n",
       "   taker_fee maker_fee  funding_interval  \\\n",
       "43    0.0006    0.0001               480   \n",
       "\n",
       "                                      leverage_filter  \\\n",
       "43  {'min_leverage': 1, 'max_leverage': 100, 'leve...   \n",
       "\n",
       "                                         price_filter  \\\n",
       "43  {'min_price': '0.50', 'max_price': '999999.00'...   \n",
       "\n",
       "                                      lot_size_filter  \n",
       "43  {'max_trading_qty': 420, 'min_trading_qty': 0....  "
      ]
     },
     "execution_count": 207,
     "metadata": {},
     "output_type": "execute_result"
    }
   ],
   "source": [
    "df = pd.DataFrame(session.query_symbol()['result'])\n",
    "df.sample()"
   ]
  },
  {
   "cell_type": "code",
   "execution_count": 230,
   "metadata": {},
   "outputs": [
    {
     "data": {
      "text/html": [
       "<div>\n",
       "<style scoped>\n",
       "    .dataframe tbody tr th:only-of-type {\n",
       "        vertical-align: middle;\n",
       "    }\n",
       "\n",
       "    .dataframe tbody tr th {\n",
       "        vertical-align: top;\n",
       "    }\n",
       "\n",
       "    .dataframe thead th {\n",
       "        text-align: right;\n",
       "    }\n",
       "</style>\n",
       "<table border=\"1\" class=\"dataframe\">\n",
       "  <thead>\n",
       "    <tr style=\"text-align: right;\">\n",
       "      <th></th>\n",
       "      <th>name</th>\n",
       "      <th>alias</th>\n",
       "      <th>status</th>\n",
       "      <th>base_currency</th>\n",
       "      <th>quote_currency</th>\n",
       "      <th>price_scale</th>\n",
       "      <th>taker_fee</th>\n",
       "      <th>maker_fee</th>\n",
       "      <th>funding_interval</th>\n",
       "      <th>leverage_filter</th>\n",
       "      <th>price_filter</th>\n",
       "      <th>lot_size_filter</th>\n",
       "    </tr>\n",
       "  </thead>\n",
       "  <tbody>\n",
       "    <tr>\n",
       "      <th>43</th>\n",
       "      <td>BTCUSDT</td>\n",
       "      <td>BTCUSDT</td>\n",
       "      <td>Trading</td>\n",
       "      <td>BTC</td>\n",
       "      <td>USDT</td>\n",
       "      <td>2</td>\n",
       "      <td>0.0006</td>\n",
       "      <td>0.0001</td>\n",
       "      <td>480</td>\n",
       "      <td>{'min_leverage': 1, 'max_leverage': 100, 'leve...</td>\n",
       "      <td>{'min_price': '0.50', 'max_price': '999999.00'...</td>\n",
       "      <td>{'max_trading_qty': 420, 'min_trading_qty': 0....</td>\n",
       "    </tr>\n",
       "  </tbody>\n",
       "</table>\n",
       "</div>"
      ],
      "text/plain": [
       "       name    alias   status base_currency quote_currency  price_scale  \\\n",
       "43  BTCUSDT  BTCUSDT  Trading           BTC           USDT            2   \n",
       "\n",
       "   taker_fee maker_fee  funding_interval  \\\n",
       "43    0.0006    0.0001               480   \n",
       "\n",
       "                                      leverage_filter  \\\n",
       "43  {'min_leverage': 1, 'max_leverage': 100, 'leve...   \n",
       "\n",
       "                                         price_filter  \\\n",
       "43  {'min_price': '0.50', 'max_price': '999999.00'...   \n",
       "\n",
       "                                      lot_size_filter  \n",
       "43  {'max_trading_qty': 420, 'min_trading_qty': 0....  "
      ]
     },
     "execution_count": 230,
     "metadata": {},
     "output_type": "execute_result"
    }
   ],
   "source": [
    "btc = df.loc[(df.name=='BTCUSDT')]\n",
    "btc"
   ]
  },
  {
   "cell_type": "code",
   "execution_count": 231,
   "metadata": {},
   "outputs": [],
   "source": [
    "def clean(dataframe):\n",
    "    dataframe = btc.explode('price_filter').reset_index(drop= True)\n",
    "    #dataframe = btc.explode(\"leverage_filter\").reset_index(drop= True)\n",
    "    dataframe = pd.concat([btc, btc[\"price_filter\"].apply(pd.Series)], axis=1).reset_index(drop=True)\n",
    "    #dataframe = pd.concat([btc, btc['leverage_filter'].apply(pd.Series)], axis=1).reset_index(drop=True)\n",
    "    return dataframe"
   ]
  },
  {
   "cell_type": "code",
   "execution_count": 232,
   "metadata": {},
   "outputs": [
    {
     "data": {
      "text/html": [
       "<div>\n",
       "<style scoped>\n",
       "    .dataframe tbody tr th:only-of-type {\n",
       "        vertical-align: middle;\n",
       "    }\n",
       "\n",
       "    .dataframe tbody tr th {\n",
       "        vertical-align: top;\n",
       "    }\n",
       "\n",
       "    .dataframe thead th {\n",
       "        text-align: right;\n",
       "    }\n",
       "</style>\n",
       "<table border=\"1\" class=\"dataframe\">\n",
       "  <thead>\n",
       "    <tr style=\"text-align: right;\">\n",
       "      <th></th>\n",
       "      <th>name</th>\n",
       "      <th>alias</th>\n",
       "      <th>status</th>\n",
       "      <th>base_currency</th>\n",
       "      <th>quote_currency</th>\n",
       "      <th>price_scale</th>\n",
       "      <th>taker_fee</th>\n",
       "      <th>maker_fee</th>\n",
       "      <th>funding_interval</th>\n",
       "      <th>leverage_filter</th>\n",
       "      <th>price_filter</th>\n",
       "      <th>lot_size_filter</th>\n",
       "      <th>min_price</th>\n",
       "      <th>max_price</th>\n",
       "      <th>tick_size</th>\n",
       "    </tr>\n",
       "  </thead>\n",
       "  <tbody>\n",
       "    <tr>\n",
       "      <th>0</th>\n",
       "      <td>BTCUSDT</td>\n",
       "      <td>BTCUSDT</td>\n",
       "      <td>Trading</td>\n",
       "      <td>BTC</td>\n",
       "      <td>USDT</td>\n",
       "      <td>2</td>\n",
       "      <td>0.0006</td>\n",
       "      <td>0.0001</td>\n",
       "      <td>480</td>\n",
       "      <td>{'min_leverage': 1, 'max_leverage': 100, 'leve...</td>\n",
       "      <td>{'min_price': '0.50', 'max_price': '999999.00'...</td>\n",
       "      <td>{'max_trading_qty': 420, 'min_trading_qty': 0....</td>\n",
       "      <td>0.50</td>\n",
       "      <td>999999.00</td>\n",
       "      <td>0.50</td>\n",
       "    </tr>\n",
       "  </tbody>\n",
       "</table>\n",
       "</div>"
      ],
      "text/plain": [
       "      name    alias   status base_currency quote_currency  price_scale  \\\n",
       "0  BTCUSDT  BTCUSDT  Trading           BTC           USDT            2   \n",
       "\n",
       "  taker_fee maker_fee  funding_interval  \\\n",
       "0    0.0006    0.0001               480   \n",
       "\n",
       "                                     leverage_filter  \\\n",
       "0  {'min_leverage': 1, 'max_leverage': 100, 'leve...   \n",
       "\n",
       "                                        price_filter  \\\n",
       "0  {'min_price': '0.50', 'max_price': '999999.00'...   \n",
       "\n",
       "                                     lot_size_filter min_price  max_price  \\\n",
       "0  {'max_trading_qty': 420, 'min_trading_qty': 0....      0.50  999999.00   \n",
       "\n",
       "  tick_size  \n",
       "0      0.50  "
      ]
     },
     "execution_count": 232,
     "metadata": {},
     "output_type": "execute_result"
    }
   ],
   "source": [
    "btc = clean(btc)\n",
    "btc"
   ]
  },
  {
   "cell_type": "code",
   "execution_count": 212,
   "metadata": {},
   "outputs": [
    {
     "data": {
      "text/html": [
       "<div>\n",
       "<style scoped>\n",
       "    .dataframe tbody tr th:only-of-type {\n",
       "        vertical-align: middle;\n",
       "    }\n",
       "\n",
       "    .dataframe tbody tr th {\n",
       "        vertical-align: top;\n",
       "    }\n",
       "\n",
       "    .dataframe thead th {\n",
       "        text-align: right;\n",
       "    }\n",
       "</style>\n",
       "<table border=\"1\" class=\"dataframe\">\n",
       "  <thead>\n",
       "    <tr style=\"text-align: right;\">\n",
       "      <th></th>\n",
       "      <th>name</th>\n",
       "      <th>alias</th>\n",
       "      <th>status</th>\n",
       "      <th>base_currency</th>\n",
       "      <th>quote_currency</th>\n",
       "      <th>price_scale</th>\n",
       "      <th>taker_fee</th>\n",
       "      <th>maker_fee</th>\n",
       "      <th>funding_interval</th>\n",
       "      <th>leverage_filter</th>\n",
       "      <th>price_filter</th>\n",
       "      <th>lot_size_filter</th>\n",
       "    </tr>\n",
       "  </thead>\n",
       "  <tbody>\n",
       "    <tr>\n",
       "      <th>43</th>\n",
       "      <td>BTCUSDT</td>\n",
       "      <td>BTCUSDT</td>\n",
       "      <td>Trading</td>\n",
       "      <td>BTC</td>\n",
       "      <td>USDT</td>\n",
       "      <td>2</td>\n",
       "      <td>0.0006</td>\n",
       "      <td>0.0001</td>\n",
       "      <td>480</td>\n",
       "      <td>{'min_leverage': 1, 'max_leverage': 100, 'leve...</td>\n",
       "      <td>{'min_price': '0.50', 'max_price': '999999.00'...</td>\n",
       "      <td>{'max_trading_qty': 420, 'min_trading_qty': 0....</td>\n",
       "    </tr>\n",
       "  </tbody>\n",
       "</table>\n",
       "</div>"
      ],
      "text/plain": [
       "       name    alias   status base_currency quote_currency  price_scale  \\\n",
       "43  BTCUSDT  BTCUSDT  Trading           BTC           USDT            2   \n",
       "\n",
       "   taker_fee maker_fee  funding_interval  \\\n",
       "43    0.0006    0.0001               480   \n",
       "\n",
       "                                      leverage_filter  \\\n",
       "43  {'min_leverage': 1, 'max_leverage': 100, 'leve...   \n",
       "\n",
       "                                         price_filter  \\\n",
       "43  {'min_price': '0.50', 'max_price': '999999.00'...   \n",
       "\n",
       "                                      lot_size_filter  \n",
       "43  {'max_trading_qty': 420, 'min_trading_qty': 0....  "
      ]
     },
     "execution_count": 212,
     "metadata": {},
     "output_type": "execute_result"
    }
   ],
   "source": [
    "btc"
   ]
  },
  {
   "cell_type": "code",
   "execution_count": 235,
   "metadata": {},
   "outputs": [
    {
     "name": "stdout",
     "output_type": "stream",
     "text": [
      "{'ret_code': 0, 'ret_msg': '', 'result': {'symbol': 'BTCUSDT', 'price': '16929.09'}, 'ext_info': None, 'ext_code': None}\n"
     ]
    }
   ],
   "source": [
    "from pybit import spot\n",
    "session_unauth = spot.HTTP(\n",
    "    endpoint=\"https://api-testnet.bybit.com\"\n",
    ")\n",
    "print(session_unauth.last_traded_price(\n",
    "    symbol=\"BTCUSDT\"\n",
    "))"
   ]
  },
  {
   "cell_type": "code",
   "execution_count": null,
   "metadata": {},
   "outputs": [],
   "source": []
  }
 ],
 "metadata": {
  "kernelspec": {
   "display_name": "Python 3.9.12 ('base')",
   "language": "python",
   "name": "python3"
  },
  "language_info": {
   "codemirror_mode": {
    "name": "ipython",
    "version": 3
   },
   "file_extension": ".py",
   "mimetype": "text/x-python",
   "name": "python",
   "nbconvert_exporter": "python",
   "pygments_lexer": "ipython3",
   "version": "3.9.12"
  },
  "orig_nbformat": 4,
  "vscode": {
   "interpreter": {
    "hash": "8e76f8642360a3358ab06c318ab18c1161224eb3836609d5c16edea6f6e43dba"
   }
  }
 },
 "nbformat": 4,
 "nbformat_minor": 2
}
